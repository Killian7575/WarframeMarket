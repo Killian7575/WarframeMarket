{
 "cells": [
  {
   "cell_type": "code",
   "execution_count": 27,
   "metadata": {},
   "outputs": [],
   "source": [
    "import requests\n",
    "import json\n",
    "from myFunctions import getWarframeMarketOrders as getOrders\n",
    "from myFunctions import getItemAveragePrice as getPrice\n",
    "from myFunctions import updateMarketItemList, loadMarketItemList, findItemsInList, queryPricesOf\n",
    "from time import sleep\n",
    "from pickleUtil import pickleLoad, pickleSave\n",
    "from pathlib import Path\n",
    "import numpy as np"
   ]
  },
  {
   "cell_type": "code",
   "execution_count": 27,
   "metadata": {},
   "outputs": [
    {
     "name": "stdout",
     "output_type": "stream",
     "text": [
      "Saving object transformedItemList to pickle file ./data//transformedItemList.pkl\n"
     ]
    }
   ],
   "source": [
    "updateMarketItemList()"
   ]
  },
  {
   "cell_type": "code",
   "execution_count": 34,
   "metadata": {},
   "outputs": [
    {
     "name": "stdout",
     "output_type": "stream",
     "text": [
      "Loading object transformedItemList from pickle file ./data/transformedItemList.pkl\n"
     ]
    }
   ],
   "source": [
    "itemList = loadMarketItemList()"
   ]
  },
  {
   "cell_type": "code",
   "execution_count": 33,
   "metadata": {},
   "outputs": [
    {
     "name": "stdout",
     "output_type": "stream",
     "text": [
      "Loading object transformedItemList from pickle file ./data/transformedItemList.pkl\n",
      "[{'item_name': 'Frost Prime Systems Blueprint', 'url_name': 'frost_prime_systems', 'id': '54a73e65e779893a797fff79'}, {'item_name': 'Mesa Prime Systems Blueprint', 'url_name': 'mesa_prime_systems', 'id': '5c182b749603780081b09a56'}]\n",
      "Frost Prime Systems Blueprint costs 15\n",
      "Mesa Prime Systems Blueprint costs 27\n"
     ]
    }
   ],
   "source": [
    "result = queryPricesOf('Frost Prime Systems', 'Mesa Prime Systems')\n",
    "for item in result:\n",
    "    print(f'{item[\"item_name\"]} costs {round(item[\"price\"])}')"
   ]
  }
 ],
 "metadata": {
  "kernelspec": {
   "display_name": "Python 3.9.12 64-bit ('miniconda3')",
   "language": "python",
   "name": "python3"
  },
  "language_info": {
   "codemirror_mode": {
    "name": "ipython",
    "version": 3
   },
   "file_extension": ".py",
   "mimetype": "text/x-python",
   "name": "python",
   "nbconvert_exporter": "python",
   "pygments_lexer": "ipython3",
   "version": "3.9.12"
  },
  "orig_nbformat": 4,
  "vscode": {
   "interpreter": {
    "hash": "fc310f8b68930e352bea96791b1cdef2d01a7b57e48e764dae8e5ab914f4f815"
   }
  }
 },
 "nbformat": 4,
 "nbformat_minor": 2
}
