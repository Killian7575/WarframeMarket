{
 "cells": [
  {
   "cell_type": "code",
   "execution_count": 32,
   "metadata": {},
   "outputs": [],
   "source": [
    "import requests\n",
    "import json\n",
    "from myFunctions import getWarframeMarketOrders as getOrders\n",
    "from myFunctions import getItemAveragePrice as getPrice\n",
    "from myFunctions import updateMarketItemList, loadMarketItemList\n",
    "from time import sleep\n",
    "from pickleUtil import pickleLoad, pickleSave\n",
    "from pathlib import Path"
   ]
  },
  {
   "cell_type": "markdown",
   "metadata": {},
   "source": [
    "# get"
   ]
  },
  {
   "cell_type": "code",
   "execution_count": null,
   "metadata": {},
   "outputs": [],
   "source": [
    "# response = requests.get(\"https://api.google.com/this-api-doesnt-exist\")\n",
    "# print(response.status_code)"
   ]
  },
  {
   "cell_type": "code",
   "execution_count": null,
   "metadata": {},
   "outputs": [],
   "source": [
    "# response = requests.get(\"https://api.warframe.market/v1/items\")"
   ]
  },
  {
   "cell_type": "code",
   "execution_count": null,
   "metadata": {},
   "outputs": [],
   "source": [
    "# print(response)"
   ]
  },
  {
   "cell_type": "markdown",
   "metadata": {},
   "source": [
    "# read JSON"
   ]
  },
  {
   "cell_type": "code",
   "execution_count": 27,
   "metadata": {},
   "outputs": [
    {
     "name": "stdout",
     "output_type": "stream",
     "text": [
      "Saving object transformedItemList to pickle file ./data//transformedItemList.pkl\n"
     ]
    }
   ],
   "source": [
    "updateMarketItemList()"
   ]
  },
  {
   "cell_type": "code",
   "execution_count": 34,
   "metadata": {},
   "outputs": [
    {
     "name": "stdout",
     "output_type": "stream",
     "text": [
      "Loading object transformedItemList from pickle file ./data/transformedItemList.pkl\n"
     ]
    }
   ],
   "source": [
    "itemList = loadMarketItemList()"
   ]
  },
  {
   "cell_type": "code",
   "execution_count": 35,
   "metadata": {},
   "outputs": [
    {
     "name": "stdout",
     "output_type": "stream",
     "text": [
      "Grabbed 116 items from the 2907 items in payload\n"
     ]
    }
   ],
   "source": [
    "myPrimes = [{\"item_name\": x[\"item_name\"],\n",
    "            \"url_name\": x[\"url_name\"],\n",
    "            \"id\": x[\"id\"]} for x in itemList if 'Prime Set' in x['item_name']]\n",
    "\n",
    "print(f'Grabbed {len(myPrimes)} items from the {len(itemList)} items in payload')"
   ]
  },
  {
   "cell_type": "code",
   "execution_count": null,
   "metadata": {},
   "outputs": [],
   "source": [
    "# myPrimesTester = myPrimes[:10]\n",
    "# print(len(myPrimesTester))"
   ]
  },
  {
   "cell_type": "code",
   "execution_count": null,
   "metadata": {},
   "outputs": [],
   "source": [
    "# orders = getOrders('frost_prime_set')\n",
    "# price = getPrice(orders)\n",
    "# print(price)"
   ]
  },
  {
   "cell_type": "code",
   "execution_count": null,
   "metadata": {},
   "outputs": [],
   "source": [
    "# myPrimesTester"
   ]
  },
  {
   "cell_type": "code",
   "execution_count": null,
   "metadata": {},
   "outputs": [],
   "source": [
    "for d in myPrimes:\n",
    "    orders = getOrders(d['url_name'])\n",
    "    price = getPrice(orders)\n",
    "    print(f'The average price of {d[\"item_name\"]} is {round(price)}')\n",
    "    "
   ]
  }
 ],
 "metadata": {
  "kernelspec": {
   "display_name": "Python 3.9.12 64-bit ('miniconda3')",
   "language": "python",
   "name": "python3"
  },
  "language_info": {
   "codemirror_mode": {
    "name": "ipython",
    "version": 3
   },
   "file_extension": ".py",
   "mimetype": "text/x-python",
   "name": "python",
   "nbconvert_exporter": "python",
   "pygments_lexer": "ipython3",
   "version": "3.9.12"
  },
  "orig_nbformat": 4,
  "vscode": {
   "interpreter": {
    "hash": "fc310f8b68930e352bea96791b1cdef2d01a7b57e48e764dae8e5ab914f4f815"
   }
  }
 },
 "nbformat": 4,
 "nbformat_minor": 2
}
