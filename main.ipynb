{
 "cells": [
  {
   "cell_type": "code",
   "execution_count": 3,
   "metadata": {},
   "outputs": [],
   "source": [
    "import requests\n",
    "import json\n",
    "from myFunctions import getWarframeMarketOrders as getOrders\n",
    "from myFunctions import getItemAveragePrice as getPrice\n",
    "from myFunctions import updateMarketItemList, loadMarketItemList, findItemsInList, queryPricesOf, getItemData, addAdditionalInfoToItems\n",
    "from time import sleep\n",
    "from pickleUtil import pickleLoad, pickleSave\n",
    "from pathlib import Path\n",
    "import numpy as np\n",
    "import codecs"
   ]
  },
  {
   "cell_type": "code",
   "execution_count": null,
   "metadata": {},
   "outputs": [],
   "source": [
    "updateMarketItemList()"
   ]
  },
  {
   "cell_type": "code",
   "execution_count": null,
   "metadata": {},
   "outputs": [],
   "source": [
    "itemList = loadMarketItemList()"
   ]
  },
  {
   "cell_type": "code",
   "execution_count": null,
   "metadata": {},
   "outputs": [],
   "source": [
    "findItemsInList('warframe','set', itemList=itemList, key='tags')"
   ]
  },
  {
   "cell_type": "code",
   "execution_count": null,
   "metadata": {},
   "outputs": [],
   "source": [
    "result = queryPricesOf('set', 'warframe', itemList=itemList, location='tags')\n",
    "for item in result:\n",
    "    print(f'{item[\"item_name\"]} costs {round(item[\"price\"])}')"
   ]
  }
 ],
 "metadata": {
  "kernelspec": {
   "display_name": "Python 3.9.12 64-bit ('miniconda3')",
   "language": "python",
   "name": "python3"
  },
  "language_info": {
   "codemirror_mode": {
    "name": "ipython",
    "version": 3
   },
   "file_extension": ".py",
   "mimetype": "text/x-python",
   "name": "python",
   "nbconvert_exporter": "python",
   "pygments_lexer": "ipython3",
   "version": "3.9.12"
  },
  "orig_nbformat": 4,
  "vscode": {
   "interpreter": {
    "hash": "fc310f8b68930e352bea96791b1cdef2d01a7b57e48e764dae8e5ab914f4f815"
   }
  }
 },
 "nbformat": 4,
 "nbformat_minor": 2
}
